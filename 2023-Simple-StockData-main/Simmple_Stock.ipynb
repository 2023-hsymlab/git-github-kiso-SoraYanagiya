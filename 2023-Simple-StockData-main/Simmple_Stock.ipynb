{
  "cells": [
    {
      "cell_type": "markdown",
      "metadata": {
        "colab_type": "text",
        "id": "view-in-github"
      },
      "source": [
        "<a href=\"https://colab.research.google.com/github/hsym-uec/myWeb_github/blob/main/Simmple_Stock.ipynb\" target=\"_parent\"><img src=\"https://colab.research.google.com/assets/colab-badge.svg\" alt=\"Open In Colab\"/></a>"
      ]
    },
    {
      "cell_type": "markdown",
      "metadata": {},
      "source": []
    },
    {
      "cell_type": "code",
      "execution_count": 2,
      "metadata": {
        "id": "iu7dBOESS_HT"
      },
      "outputs": [],
      "source": [
        "# Nintendo Stock data from Stooq.com \n",
        "# reference https://seanmemo.com/234/\n",
        "\n",
        "from pandas_datareader import data\n",
        "start = '2023-04-01'\n",
        "end = '2023-04-18'\n",
        "df = data.DataReader('7974.JP', 'stooq', start, end)\n"
      ]
    },
    {
      "cell_type": "code",
      "execution_count": 3,
      "metadata": {
        "colab": {
          "base_uri": "https://localhost:8080/",
          "height": 269
        },
        "id": "X1ZMmhe8VDaN",
        "outputId": "a1e65cdb-d5aa-4fbc-fc4d-d1b9db6aaafa"
      },
      "outputs": [
        {
          "data": {
            "text/html": [
              "<div>\n",
              "<style scoped>\n",
              "    .dataframe tbody tr th:only-of-type {\n",
              "        vertical-align: middle;\n",
              "    }\n",
              "\n",
              "    .dataframe tbody tr th {\n",
              "        vertical-align: top;\n",
              "    }\n",
              "\n",
              "    .dataframe thead th {\n",
              "        text-align: right;\n",
              "    }\n",
              "</style>\n",
              "<table border=\"1\" class=\"dataframe\">\n",
              "  <thead>\n",
              "    <tr style=\"text-align: right;\">\n",
              "      <th></th>\n",
              "      <th>Open</th>\n",
              "      <th>High</th>\n",
              "      <th>Low</th>\n",
              "      <th>Close</th>\n",
              "      <th>Volume</th>\n",
              "    </tr>\n",
              "    <tr>\n",
              "      <th>Date</th>\n",
              "      <th></th>\n",
              "      <th></th>\n",
              "      <th></th>\n",
              "      <th></th>\n",
              "      <th></th>\n",
              "    </tr>\n",
              "  </thead>\n",
              "  <tbody>\n",
              "    <tr>\n",
              "      <th>2023-04-18</th>\n",
              "      <td>5500</td>\n",
              "      <td>5560</td>\n",
              "      <td>5485</td>\n",
              "      <td>5560</td>\n",
              "      <td>5630300</td>\n",
              "    </tr>\n",
              "    <tr>\n",
              "      <th>2023-04-17</th>\n",
              "      <td>5499</td>\n",
              "      <td>5499</td>\n",
              "      <td>5423</td>\n",
              "      <td>5457</td>\n",
              "      <td>3467500</td>\n",
              "    </tr>\n",
              "    <tr>\n",
              "      <th>2023-04-14</th>\n",
              "      <td>5393</td>\n",
              "      <td>5480</td>\n",
              "      <td>5379</td>\n",
              "      <td>5467</td>\n",
              "      <td>5924400</td>\n",
              "    </tr>\n",
              "    <tr>\n",
              "      <th>2023-04-13</th>\n",
              "      <td>5431</td>\n",
              "      <td>5435</td>\n",
              "      <td>5376</td>\n",
              "      <td>5379</td>\n",
              "      <td>4182700</td>\n",
              "    </tr>\n",
              "    <tr>\n",
              "      <th>2023-04-12</th>\n",
              "      <td>5413</td>\n",
              "      <td>5488</td>\n",
              "      <td>5396</td>\n",
              "      <td>5466</td>\n",
              "      <td>5148200</td>\n",
              "    </tr>\n",
              "    <tr>\n",
              "      <th>2023-04-11</th>\n",
              "      <td>5505</td>\n",
              "      <td>5543</td>\n",
              "      <td>5407</td>\n",
              "      <td>5413</td>\n",
              "      <td>9397600</td>\n",
              "    </tr>\n",
              "    <tr>\n",
              "      <th>2023-04-10</th>\n",
              "      <td>5291</td>\n",
              "      <td>5410</td>\n",
              "      <td>5271</td>\n",
              "      <td>5406</td>\n",
              "      <td>7136300</td>\n",
              "    </tr>\n",
              "    <tr>\n",
              "      <th>2023-04-07</th>\n",
              "      <td>5325</td>\n",
              "      <td>5326</td>\n",
              "      <td>5187</td>\n",
              "      <td>5198</td>\n",
              "      <td>4302700</td>\n",
              "    </tr>\n",
              "    <tr>\n",
              "      <th>2023-04-06</th>\n",
              "      <td>5235</td>\n",
              "      <td>5297</td>\n",
              "      <td>5230</td>\n",
              "      <td>5250</td>\n",
              "      <td>4175400</td>\n",
              "    </tr>\n",
              "    <tr>\n",
              "      <th>2023-04-05</th>\n",
              "      <td>5363</td>\n",
              "      <td>5367</td>\n",
              "      <td>5241</td>\n",
              "      <td>5245</td>\n",
              "      <td>6830300</td>\n",
              "    </tr>\n",
              "    <tr>\n",
              "      <th>2023-04-04</th>\n",
              "      <td>5210</td>\n",
              "      <td>5414</td>\n",
              "      <td>5194</td>\n",
              "      <td>5412</td>\n",
              "      <td>10423400</td>\n",
              "    </tr>\n",
              "    <tr>\n",
              "      <th>2023-04-03</th>\n",
              "      <td>5209</td>\n",
              "      <td>5218</td>\n",
              "      <td>5150</td>\n",
              "      <td>5173</td>\n",
              "      <td>4140400</td>\n",
              "    </tr>\n",
              "  </tbody>\n",
              "</table>\n",
              "</div>"
            ],
            "text/plain": [
              "            Open  High   Low  Close    Volume\n",
              "Date                                         \n",
              "2023-04-18  5500  5560  5485   5560   5630300\n",
              "2023-04-17  5499  5499  5423   5457   3467500\n",
              "2023-04-14  5393  5480  5379   5467   5924400\n",
              "2023-04-13  5431  5435  5376   5379   4182700\n",
              "2023-04-12  5413  5488  5396   5466   5148200\n",
              "2023-04-11  5505  5543  5407   5413   9397600\n",
              "2023-04-10  5291  5410  5271   5406   7136300\n",
              "2023-04-07  5325  5326  5187   5198   4302700\n",
              "2023-04-06  5235  5297  5230   5250   4175400\n",
              "2023-04-05  5363  5367  5241   5245   6830300\n",
              "2023-04-04  5210  5414  5194   5412  10423400\n",
              "2023-04-03  5209  5218  5150   5173   4140400"
            ]
          },
          "execution_count": 3,
          "metadata": {},
          "output_type": "execute_result"
        }
      ],
      "source": [
        "df"
      ]
    }
  ],
  "metadata": {
    "colab": {
      "authorship_tag": "ABX9TyPjQvpzdTrQo21gWnU3EF3c",
      "include_colab_link": true,
      "provenance": []
    },
    "kernelspec": {
      "display_name": "Python 3",
      "name": "python3"
    },
    "language_info": {
      "codemirror_mode": {
        "name": "ipython",
        "version": 3
      },
      "file_extension": ".py",
      "mimetype": "text/x-python",
      "name": "python",
      "nbconvert_exporter": "python",
      "pygments_lexer": "ipython3",
      "version": "3.11.3"
    }
  },
  "nbformat": 4,
  "nbformat_minor": 0
}
